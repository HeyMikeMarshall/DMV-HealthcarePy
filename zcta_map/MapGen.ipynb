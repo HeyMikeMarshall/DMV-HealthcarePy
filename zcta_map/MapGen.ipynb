{
 "cells": [
  {
   "cell_type": "code",
   "execution_count": 5,
   "metadata": {},
   "outputs": [],
   "source": [
    "import requests\n",
    "import pandas as pd\n",
    "import numpy as np\n",
    "import gmaps\n",
    "import json\n",
    "import csv\n",
    "from keys import gapikey\n",
    "from matplotlib.cm import winter\n",
    "from matplotlib.colors import to_hex\n",
    "from area import area\n",
    "import ast\n",
    "\n",
    "gmaps.configure(api_key=gapikey)\n",
    "\n",
    "with open('resources/places_geo2.csv', newline='\\n', encoding='utf-8') as d:\n",
    "    places_geo = pd.read_csv(d)\n",
    "    \n",
    "with open('resources/features.json') as a:\n",
    "    geoj = json.load(a)\n",
    "    \n",
    "with open('resources/zip_data.csv', encoding='utf-8') as e:\n",
    "    colors = list(pd.read_csv(e)['color_key'])"
   ]
  },
  {
   "cell_type": "code",
   "execution_count": 6,
   "metadata": {},
   "outputs": [
    {
     "data": {
      "application/vnd.jupyter.widget-view+json": {
       "model_id": "d806acd316c245c9a69348679a0fd951",
       "version_major": 2,
       "version_minor": 0
      },
      "text/plain": [
       "Figure(layout=FigureLayout(height='420px'))"
      ]
     },
     "metadata": {},
     "output_type": "display_data"
    }
   ],
   "source": [
    "places_layer = gmaps.symbol_layer(places_geo[['lat','lng']], fill_color='red', stroke_color='red', scale=1)\n",
    "\n",
    "\n",
    "zcta_layer = gmaps.geojson_layer(\n",
    "    geoj,\n",
    "    fill_color=colors,\n",
    "    stroke_color=colors,\n",
    "    fill_opacity=0.8)\n",
    "\n",
    "fig = gmaps.figure()\n",
    "fig.add_layer(zcta_layer)\n",
    "fig.add_layer(places_layer)\n",
    "fig"
   ]
  },
  {
   "cell_type": "code",
   "execution_count": null,
   "metadata": {},
   "outputs": [],
   "source": []
  }
 ],
 "metadata": {
  "kernelspec": {
   "display_name": "Python 3",
   "language": "python",
   "name": "python3"
  },
  "language_info": {
   "codemirror_mode": {
    "name": "ipython",
    "version": 3
   },
   "file_extension": ".py",
   "mimetype": "text/x-python",
   "name": "python",
   "nbconvert_exporter": "python",
   "pygments_lexer": "ipython3",
   "version": "3.6.7"
  }
 },
 "nbformat": 4,
 "nbformat_minor": 2
}
