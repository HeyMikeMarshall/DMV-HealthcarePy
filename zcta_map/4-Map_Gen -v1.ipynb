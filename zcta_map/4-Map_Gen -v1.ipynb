{
 "cells": [
  {
   "cell_type": "markdown",
   "metadata": {},
   "source": [
    "# Step 4 - Jupyter Gmaps Generator with HTML/CSS Legend Import\n",
    "\n",
    "This script is responsible for building HTML files that will rendering the choropleth maps of the D.C. Metro. This notebook is importing a number of data sets collected throughout notebook steps 1 through 3.\n",
    "\n",
    "Being imported are: GeoJSON geography dicts for choropleth boundary rendering, hexadecimal color keys generated through color mapping, Geographic coordinates of several thousand healthcare providers spread throughout the city, HTML/Style variables for rendering map legends through additional widgets. Outputs are to separate HTML files to improve notebook speed. (due to the very large number of rendered geographic points on the map, it is strongly advised to render a single map at a time).\n",
    "\n"
   ]
  },
  {
   "cell_type": "code",
   "execution_count": 1,
   "metadata": {},
   "outputs": [],
   "source": [
    "import requests\n",
    "import pandas as pd\n",
    "import numpy as np\n",
    "import gmaps\n",
    "import json\n",
    "import csv\n",
    "from keys import gapikey\n",
    "import legendhtml as lgnd\n",
    "from ipywidgets.embed import embed_minimal_html\n",
    "import ipywidgets as widgets\n",
    "import matplotlib.pyplot as plt\n",
    "gmaps.configure(api_key=gapikey)\n",
    "from matplotlib.cm import RdYlGn\n",
    "from matplotlib.colors import to_hex\n",
    "\n",
    "with open('resources/places_geo2.csv', newline='\\n', encoding='utf-8') as a:\n",
    "    doctor_geo = pd.read_csv(a)\n",
    "\n",
    "with open('resources/hospital_geo.csv', newline='\\n', encoding='utf-8') as b:\n",
    "    hospital_geo = pd.read_csv(b)\n",
    "        \n",
    "with open('resources/features.json') as c:\n",
    "    geoj = json.load(c)\n",
    "    \n",
    "with open('../primary_data.csv', encoding='utf-8') as d:\n",
    "    primary_data = pd.read_csv(d)"
   ]
  },
  {
   "cell_type": "code",
   "execution_count": 2,
   "metadata": {},
   "outputs": [],
   "source": [
    "zcta_inc_colors = list(primary_data['color_key_inc'])\n",
    "zcta_inc_layer = gmaps.geojson_layer(\n",
    "    geoj,\n",
    "    fill_color=zcta_inc_colors,\n",
    "    stroke_color=zcta_inc_colors,\n",
    "    fill_opacity=0.8,\n",
    "    stroke_weight=0.5)\n",
    "\n",
    "zcta_ins_colors = list(primary_data['color_key_ins'])\n",
    "zcta_ins_layer = gmaps.geojson_layer(\n",
    "    geoj,\n",
    "    fill_color=zcta_ins_colors,\n",
    "    stroke_color=zcta_ins_colors,\n",
    "    fill_opacity=0.8,\n",
    "    stroke_weight=0.5)\n",
    "\n",
    "zcta_emp_colors = list(primary_data['color_key_emp'])\n",
    "zcta_emp_layer = gmaps.geojson_layer(\n",
    "    geoj,\n",
    "    fill_color=zcta_emp_colors,\n",
    "    stroke_color=zcta_emp_colors,\n",
    "    fill_opacity=0.8,\n",
    "    stroke_weight=0.5)"
   ]
  },
  {
   "cell_type": "code",
   "execution_count": 3,
   "metadata": {},
   "outputs": [],
   "source": [
    "doctor_layer = gmaps.symbol_layer(doctor_geo[['lat','lng']], fill_color='black', stroke_color='black', scale=1)\n",
    "hospital_layer = gmaps.symbol_layer(hospital_geo[['lat','lng']], fill_color='black', stroke_color='black', scale=1)"
   ]
  },
  {
   "cell_type": "code",
   "execution_count": 4,
   "metadata": {
    "scrolled": false
   },
   "outputs": [],
   "source": [
    "inc_fig = gmaps.figure(display_toolbar=False, layout={\n",
    "        'width': '700px',\n",
    "        'height': '550px',\n",
    "        'padding': '3px',\n",
    "        'border': '1px solid black'})\n",
    "inc_fig.add_layer(zcta_inc_layer)\n",
    "inc_legend = widgets.HBox([widgets.HTML(lgnd.inc_legend)])\n",
    "inc_fig.add_layer(hospital_layer)\n",
    "inc_fig.add_layer(doctor_layer)\n",
    "inc_fig = widgets.VBox([inc_fig, inc_legend])"
   ]
  },
  {
   "cell_type": "code",
   "execution_count": 5,
   "metadata": {},
   "outputs": [],
   "source": [
    "embed_minimal_html('dmv_income.html', views=[inc_fig])"
   ]
  },
  {
   "cell_type": "code",
   "execution_count": 6,
   "metadata": {},
   "outputs": [],
   "source": [
    "emp_fig = gmaps.figure(display_toolbar=False, layout={\n",
    "        'width': '700px',\n",
    "        'height': '550px',\n",
    "        'padding': '3px',\n",
    "        'border': '1px solid black'})\n",
    "emp_fig.add_layer(zcta_emp_layer)\n",
    "emp_legend = widgets.HBox([widgets.HTML(lgnd.emp_legend)])\n",
    "emp_fig.add_layer(hospital_layer)\n",
    "emp_fig.add_layer(doctor_layer)\n",
    "emp_fig = widgets.VBox([emp_fig, emp_legend])"
   ]
  },
  {
   "cell_type": "code",
   "execution_count": 7,
   "metadata": {},
   "outputs": [],
   "source": [
    "embed_minimal_html('dmv_employment.html', views=[emp_fig])"
   ]
  },
  {
   "cell_type": "code",
   "execution_count": 8,
   "metadata": {},
   "outputs": [],
   "source": [
    "ins_fig = gmaps.figure(display_toolbar=False, layout={\n",
    "        'width': '700px',\n",
    "        'height': '550px',\n",
    "        'padding': '3px',\n",
    "        'border': '1px solid black'})\n",
    "ins_fig.add_layer(zcta_ins_layer)\n",
    "ins_legend = widgets.HBox([widgets.HTML(lgnd.ins_legend)])\n",
    "ins_fig.add_layer(hospital_layer)\n",
    "ins_fig.add_layer(doctor_layer)\n",
    "ins_fig = widgets.VBox([ins_fig, ins_legend])"
   ]
  },
  {
   "cell_type": "code",
   "execution_count": 9,
   "metadata": {},
   "outputs": [],
   "source": [
    "embed_minimal_html('dmv_insurance.html', views=[ins_fig])"
   ]
  },
  {
   "cell_type": "code",
   "execution_count": null,
   "metadata": {},
   "outputs": [],
   "source": []
  }
 ],
 "metadata": {
  "kernelspec": {
   "display_name": "Python 3",
   "language": "python",
   "name": "python3"
  },
  "language_info": {
   "codemirror_mode": {
    "name": "ipython",
    "version": 3
   },
   "file_extension": ".py",
   "mimetype": "text/x-python",
   "name": "python",
   "nbconvert_exporter": "python",
   "pygments_lexer": "ipython3",
   "version": "3.6.7"
  }
 },
 "nbformat": 4,
 "nbformat_minor": 2
}
