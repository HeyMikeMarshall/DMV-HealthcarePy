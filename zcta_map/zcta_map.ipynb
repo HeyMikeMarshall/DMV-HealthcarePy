{
 "cells": [
  {
   "cell_type": "code",
   "execution_count": null,
   "metadata": {},
   "outputs": [],
   "source": [
    "import requests\n",
    "import pandas as pd\n",
    "import numpy as np\n",
    "import gmaps\n",
    "import json\n",
    "import csv\n",
    "from keys import gapikey\n",
    "from matplotlib.cm import winter\n",
    "from matplotlib.colors import to_hex\n",
    "\n",
    "gmaps.configure(api_key=gapikey)\n",
    "\n",
    "with open('zcta/zcta.json') as f:\n",
    "    geoj = json.load(f)\n",
    "\n",
    "with open('resources/zip_targets.csv', newline='\\n', encoding='utf-8-sig') as e:\n",
    "    ziptgt = pd.read_csv(e)\n",
    "\n",
    "with open('resources/dc_pop.csv', newline='\\n', encoding='utf-8-sig') as f:\n",
    "    dc_popdf = pd.read_csv(f)"
   ]
  },
  {
   "cell_type": "code",
   "execution_count": null,
   "metadata": {},
   "outputs": [],
   "source": [
    "dc_zippop = dc_popdf[['GEO.id2','HC01_EST_VC01']]\n",
    "dc_zippop = dc_zippop.rename(columns={'GEO.id2': 'zip', 'HC01_EST_VC01': 'population'})\n",
    "zippopdf = ziptgt.merge(dc_zippop, on='zip', how='outer').set_index('zip')\n",
    "zipdict = dict(zippopdf['population'])"
   ]
  },
  {
   "cell_type": "code",
   "execution_count": null,
   "metadata": {},
   "outputs": [],
   "source": [
    "poplist = []\n",
    "geoj_scrubbed = {}\n",
    "features = geoj['features']\n",
    "feature_col = []\n",
    "\n",
    "for feature in features:\n",
    "    try:\n",
    "        feature_geoid = int(feature['properties']['GEOID10'])\n",
    "        if feature_geoid in zipdict.keys():\n",
    "            feature_col.append(feature)\n",
    "            poplist.append(zipdict[feature_geoid])\n",
    "    except ValueError:\n",
    "            print(f'Value Error {b}')\n",
    "                  \n",
    "geoj_scrubbed = {'type': 'FeatureCollection', 'features': feature_col}"
   ]
  },
  {
   "cell_type": "code",
   "execution_count": null,
   "metadata": {},
   "outputs": [],
   "source": [
    "min_pop = min(poplist)\n",
    "max_pop = max(poplist)\n",
    "pop_range = max_pop - min_pop\n",
    "\n",
    "def calculate_color(pop):\n",
    "    # make pop a number between 0 and 1\n",
    "    normalized_pop = (pop - min_pop) / pop_range\n",
    "    # optional invert pop so that high inequality can give dark color\n",
    "    inverse_pop = 1.0 - normalized_pop\n",
    "    # transform the pop value to a matplotlib color\n",
    "    mpl_color = winter(normalized_pop)\n",
    "    # transform from a matplotlib color to a valid CSS color\n",
    "    gmaps_color = to_hex(mpl_color, keep_alpha=False)\n",
    "    return gmaps_color\n",
    "\n",
    "colors = []\n",
    "for pop in poplist:\n",
    "    if str(pop) != 'nan':\n",
    "        try:\n",
    "            color = calculate_color(pop)\n",
    "        except KeyError:\n",
    "            color = (0, 0, 0, 0.3)\n",
    "    else:\n",
    "        color = (0, 0, 0, 0.3)\n",
    "    colors.append(color)"
   ]
  },
  {
   "cell_type": "code",
   "execution_count": null,
   "metadata": {},
   "outputs": [],
   "source": [
    "zcta_layer = gmaps.geojson_layer(\n",
    "    geoj_scrubbed,\n",
    "    fill_color=colors,\n",
    "    stroke_color=colors,\n",
    "    fill_opacity=0.8)\n",
    "fig = gmaps.figure()\n",
    "fig.add_layer(zcta_layer)\n",
    "fig"
   ]
  },
  {
   "cell_type": "code",
   "execution_count": null,
   "metadata": {},
   "outputs": [],
   "source": []
  }
 ],
 "metadata": {
  "kernelspec": {
   "display_name": "Python 3",
   "language": "python",
   "name": "python3"
  },
  "language_info": {
   "codemirror_mode": {
    "name": "ipython",
    "version": 3
   },
   "file_extension": ".py",
   "mimetype": "text/x-python",
   "name": "python",
   "nbconvert_exporter": "python",
   "pygments_lexer": "ipython3",
   "version": "3.6.7"
  }
 },
 "nbformat": 4,
 "nbformat_minor": 2
}
