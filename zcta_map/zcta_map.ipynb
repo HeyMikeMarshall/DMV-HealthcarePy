{
 "cells": [
  {
   "cell_type": "code",
   "execution_count": 14,
   "metadata": {},
   "outputs": [],
   "source": [
    "import requests\n",
    "import pandas as pd\n",
    "import numpy as np\n",
    "import gmaps\n",
    "import json\n",
    "import csv\n",
    "from keys import gapikey\n",
    "from matplotlib.cm import winter\n",
    "from matplotlib.colors import to_hex\n",
    "from area import area\n",
    "\n",
    "gmaps.configure(api_key=gapikey)\n",
    "with open('zcta/zcta.json') as a:\n",
    "    geoj = json.load(a)\n",
    "with open('resources/zip_targets.csv', newline='\\n', encoding='utf-8-sig') as b:\n",
    "    ziptgt = pd.read_csv(b)\n",
    "with open('resources/dc_pop.csv', newline='\\n', encoding='utf-8-sig') as c:\n",
    "    dc_pop = pd.read_csv(c)"
   ]
  },
  {
   "cell_type": "code",
   "execution_count": 22,
   "metadata": {},
   "outputs": [],
   "source": [
    "#extract just population and zip from dc_pop.csv\n",
    "dc_popdf = dc_pop[['GEO.id2','HC01_EST_VC01']]\n",
    "#rename columns\n",
    "dc_popdf = dc_popdf.rename(columns={'GEO.id2': 'zip', 'HC01_EST_VC01': 'population'})\n",
    "#outer merge with target zipcode list\n",
    "dc_maindf = ziptgt.merge(dc_popdf, on='zip', how='outer').set_index('zip')\n",
    "#fill NaN's with zero\n",
    "dc_maindf = zippopdf.fillna(value=0)\n",
    "#create dict\n",
    "zipdict = dict(dc_maindf['population'])\n",
    "\n"
   ]
  },
  {
   "cell_type": "code",
   "execution_count": 23,
   "metadata": {},
   "outputs": [],
   "source": [
    "poplist = []\n",
    "geoj_scrubbed = {}\n",
    "areadict = {}\n",
    "features = geoj['features']\n",
    "feature_col = []\n",
    "zip_areas = []\n",
    "\n",
    "\n",
    "for feature in features:\n",
    "    try:\n",
    "        feature_geoid = int(feature['properties']['GEOID10'])\n",
    "        if feature_geoid in zipdict.keys():\n",
    "            feature_col.append(feature)\n",
    "            poplist.append(zipdict[feature_geoid])\n",
    "            \n",
    "            zarea = area(feature['geometry'])/int(1E6)\n",
    "            zip_areas.append(zarea)\n",
    "            areadict.update({feature_geoid:zarea})\n",
    "            \n",
    "            \n",
    "    except ValueError:\n",
    "            print(f'Value Error {b}')\n",
    "                  \n",
    "geoj_scrubbed = {'type': 'FeatureCollection', 'features': feature_col}\n",
    "\n",
    "areadf = pd.DataFrame.from_dict(areadict, orient='index', columns=['area'])\n",
    "\n",
    "zippopdf2 = zippopdf.join(areadf, how='left')\n",
    "zippopdf2['density'] = zippopdf2['population']/zippopdf2['area']\n",
    "\n"
   ]
  },
  {
   "cell_type": "code",
   "execution_count": null,
   "metadata": {},
   "outputs": [],
   "source": [
    "\n",
    "\n"
   ]
  },
  {
   "cell_type": "code",
   "execution_count": 24,
   "metadata": {},
   "outputs": [],
   "source": [
    "def calculate_color(pop):\n",
    "    min_pop = min(poplist)\n",
    "    max_pop = max(poplist)\n",
    "    pop_range = max_pop - min_pop\n",
    "    normalized_pop = ((pop - min_pop)/pop_range)\n",
    "    mpl_color = winter(normalized_pop)\n",
    "    gmaps_color = to_hex(mpl_color, keep_alpha=False)\n",
    "    \n",
    "    return gmaps_color\n",
    "\n",
    "colors = []\n",
    "\n",
    "for pop in poplist:\n",
    "    if int(pop) > 0:\n",
    "        try:\n",
    "            color = calculate_color(pop)\n",
    "        except KeyError:\n",
    "            color = (0, 0, 0, 0.3)\n",
    "    else:\n",
    "        color = (0, 0, 0, 0.3)\n",
    "    colors.append(color)"
   ]
  },
  {
   "cell_type": "code",
   "execution_count": 25,
   "metadata": {
    "scrolled": true
   },
   "outputs": [
    {
     "data": {
      "application/vnd.jupyter.widget-view+json": {
       "model_id": "9b7355edea544a20a336ffe7d8d54e92",
       "version_major": 2,
       "version_minor": 0
      },
      "text/plain": [
       "Figure(layout=FigureLayout(height='420px'))"
      ]
     },
     "metadata": {},
     "output_type": "display_data"
    }
   ],
   "source": [
    "zcta_layer = gmaps.geojson_layer(\n",
    "    geoj_scrubbed,\n",
    "    fill_color=colors,\n",
    "    stroke_color=colors,\n",
    "    fill_opacity=0.8)\n",
    "fig = gmaps.figure()\n",
    "fig.add_layer(zcta_layer)\n",
    "fig"
   ]
  },
  {
   "cell_type": "code",
   "execution_count": null,
   "metadata": {},
   "outputs": [],
   "source": []
  }
 ],
 "metadata": {
  "kernelspec": {
   "display_name": "Python 3",
   "language": "python",
   "name": "python3"
  },
  "language_info": {
   "codemirror_mode": {
    "name": "ipython",
    "version": 3
   },
   "file_extension": ".py",
   "mimetype": "text/x-python",
   "name": "python",
   "nbconvert_exporter": "python",
   "pygments_lexer": "ipython3",
   "version": "3.6.7"
  }
 },
 "nbformat": 4,
 "nbformat_minor": 2
}
