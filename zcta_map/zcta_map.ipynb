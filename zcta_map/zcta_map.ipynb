{
 "cells": [
  {
   "cell_type": "code",
   "execution_count": 1,
   "metadata": {},
   "outputs": [
    {
     "ename": "ModuleNotFoundError",
     "evalue": "No module named 'keys'",
     "output_type": "error",
     "traceback": [
      "\u001b[0;31m---------------------------------------------------------------------------\u001b[0m",
      "\u001b[0;31mModuleNotFoundError\u001b[0m                       Traceback (most recent call last)",
      "\u001b[0;32m<ipython-input-1-a80fedeae6ae>\u001b[0m in \u001b[0;36m<module>\u001b[0;34m\u001b[0m\n\u001b[1;32m      4\u001b[0m \u001b[0;32mimport\u001b[0m \u001b[0mjson\u001b[0m\u001b[0;34m\u001b[0m\u001b[0;34m\u001b[0m\u001b[0m\n\u001b[1;32m      5\u001b[0m \u001b[0;32mimport\u001b[0m \u001b[0mcsv\u001b[0m\u001b[0;34m\u001b[0m\u001b[0;34m\u001b[0m\u001b[0m\n\u001b[0;32m----> 6\u001b[0;31m \u001b[0;32mfrom\u001b[0m \u001b[0mkeys\u001b[0m \u001b[0;32mimport\u001b[0m \u001b[0mgapikey\u001b[0m\u001b[0;34m\u001b[0m\u001b[0;34m\u001b[0m\u001b[0m\n\u001b[0m\u001b[1;32m      7\u001b[0m \u001b[0;34m\u001b[0m\u001b[0m\n\u001b[1;32m      8\u001b[0m \u001b[0mgmaps\u001b[0m\u001b[0;34m.\u001b[0m\u001b[0mconfigure\u001b[0m\u001b[0;34m(\u001b[0m\u001b[0mapi_key\u001b[0m\u001b[0;34m=\u001b[0m\u001b[0mgapikey\u001b[0m\u001b[0;34m)\u001b[0m\u001b[0;34m\u001b[0m\u001b[0;34m\u001b[0m\u001b[0m\n",
      "\u001b[0;31mModuleNotFoundError\u001b[0m: No module named 'keys'"
     ]
    }
   ],
   "source": [
    "import requests\n",
    "import pandas as pd\n",
    "import gmaps\n",
    "import json\n",
    "import csv\n",
    "from keys import gapikey\n",
    "\n",
    "gmaps.configure(api_key=gapikey)\n",
    "\n",
    "with open('zcta/zcta.json') as f:\n",
    "    geoj = json.load(f)\n",
    "\n",
    "with open('resources/zip_targets.csv', newline='\\n', encoding='utf-8-sig') as e:\n",
    "    zipdf = pd.read_csv(e)\n",
    "    ziplist = list(zipdf['zip'])\n",
    "    \n",
    "features = geoj['features']\n",
    "feature_col = []\n",
    "colors = []"
   ]
  },
  {
   "cell_type": "code",
   "execution_count": null,
   "metadata": {},
   "outputs": [],
   "source": [
    "with open('resources/dc_pop.csv', newline='\\n', encoding='utf-8-sig') as f:\n",
    "    dc_popdf = pd.read_csv(f)\n",
    "    \n",
    "dc_zippopdf = dc_popdf[['GEO.id2','HC01_EST_VC01']]\n",
    "\n",
    "print(gapikey)"
   ]
  },
  {
   "cell_type": "code",
   "execution_count": null,
   "metadata": {},
   "outputs": [],
   "source": [
    "for feature in features:\n",
    "    try:\n",
    "        feature_geoid = int(feature['properties']['GEOID10'])\n",
    "        if feature_geoid in ziplist:\n",
    "            feature_col.append(feature)\n",
    "        \n",
    "    except ValueError:\n",
    "            print(f'Value Error {b}')\n",
    "                  \n",
    "geoj_scrubbed = {'type': 'FeatureCollection', 'features': feature_col}"
   ]
  },
  {
   "cell_type": "code",
   "execution_count": null,
   "metadata": {},
   "outputs": [],
   "source": [
    "zcta_layer = gmaps.geojson_layer(geoj_scrubbed)\n",
    "fig = gmaps.figure()\n",
    "fig.add_layer(zcta_layer)\n",
    "fig"
   ]
  },
  {
   "cell_type": "code",
   "execution_count": null,
   "metadata": {},
   "outputs": [],
   "source": []
  }
 ],
 "metadata": {
  "kernelspec": {
   "display_name": "Python 3",
   "language": "python",
   "name": "python3"
  },
  "language_info": {
   "codemirror_mode": {
    "name": "ipython",
    "version": 3
   },
   "file_extension": ".py",
   "mimetype": "text/x-python",
   "name": "python",
   "nbconvert_exporter": "python",
   "pygments_lexer": "ipython3",
   "version": "3.6.7"
  }
 },
 "nbformat": 4,
 "nbformat_minor": 2
}
