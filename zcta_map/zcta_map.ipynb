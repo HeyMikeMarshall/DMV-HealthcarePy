{
 "cells": [
  {
   "cell_type": "code",
   "execution_count": 3,
   "metadata": {},
   "outputs": [],
   "source": [
    "import requests\n",
    "import pandas as pd\n",
    "import gmaps\n",
    "import json\n",
    "import csv\n",
    "from keys import gapikey\n",
    "\n",
    "gmaps.configure(api_key=gapikey)\n",
    "\n",
    "with open('zcta/zcta.json') as f:\n",
    "    geoj = json.load(f)\n",
    "\n",
    "with open('resources/zip_targets.csv', newline='\\n', encoding='utf-8-sig') as e:\n",
    "    zipdf = pd.read_csv(e)\n",
    "    ziplist = list(zipdf['zip'])\n",
    "    \n",
    "features = geoj['features']\n",
    "feature_col = []\n",
    "\n",
    "for feature in features:\n",
    "    try:\n",
    "        feature_geoid = int(feature['properties']['GEOID10'])\n",
    "        if feature_geoid in ziplist:\n",
    "            feature_col.append(feature)\n",
    "            \n",
    "    except ValueError:\n",
    "            print(f'Value Error {b}')\n",
    "                  \n",
    "geoj_scrubbed = {'type': 'FeatureCollection', 'features': feature_col}"
   ]
  },
  {
   "cell_type": "code",
   "execution_count": 4,
   "metadata": {},
   "outputs": [
    {
     "data": {
      "application/vnd.jupyter.widget-view+json": {
       "model_id": "51d82987dfb34bdbadfc4e4bfee7fe75",
       "version_major": 2,
       "version_minor": 0
      },
      "text/plain": [
       "Figure(layout=FigureLayout(height='420px'))"
      ]
     },
     "metadata": {},
     "output_type": "display_data"
    }
   ],
   "source": [
    "zcta_layer = gmaps.geojson_layer(geoj_scrubbed)\n",
    "fig = gmaps.figure()\n",
    "fig.add_layer(zcta_layer)\n",
    "fig"
   ]
  },
  {
   "cell_type": "code",
   "execution_count": null,
   "metadata": {},
   "outputs": [],
   "source": []
  }
 ],
 "metadata": {
  "kernelspec": {
   "display_name": "Python 3",
   "language": "python",
   "name": "python3"
  },
  "language_info": {
   "codemirror_mode": {
    "name": "ipython",
    "version": 3
   },
   "file_extension": ".py",
   "mimetype": "text/x-python",
   "name": "python",
   "nbconvert_exporter": "python",
   "pygments_lexer": "ipython3",
   "version": "3.6.7"
  }
 },
 "nbformat": 4,
 "nbformat_minor": 2
}
