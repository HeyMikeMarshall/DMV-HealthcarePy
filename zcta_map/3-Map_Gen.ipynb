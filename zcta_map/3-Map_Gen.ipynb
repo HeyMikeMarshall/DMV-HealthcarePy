{
 "cells": [
  {
   "cell_type": "code",
   "execution_count": 1,
   "metadata": {},
   "outputs": [],
   "source": [
    "import requests\n",
    "import pandas as pd\n",
    "import gmaps\n",
    "import json\n",
    "import csv\n",
    "from keys import gapikey\n",
    "from ipywidgets.embed import embed_minimal_html\n",
    "gmaps.configure(api_key=gapikey)\n",
    "\n",
    "with open('resources/places_geo2.csv', newline='\\n', encoding='utf-8') as a:\n",
    "    doctor_geo = pd.read_csv(a)\n",
    "\n",
    "with open('resources/hospital_geo.csv', newline='\\n', encoding='utf-8') as b:\n",
    "    hospital_geo = pd.read_csv(b)\n",
    "        \n",
    "with open('resources/features.json') as c:\n",
    "    geoj = json.load(c)\n",
    "    \n",
    "with open('../primary_data.csv', encoding='utf-8') as d:\n",
    "    primary_data = pd.read_csv(d)"
   ]
  },
  {
   "cell_type": "code",
   "execution_count": 2,
   "metadata": {},
   "outputs": [
    {
     "data": {
      "text/plain": [
       "1.0"
      ]
     },
     "execution_count": 2,
     "metadata": {},
     "output_type": "execute_result"
    }
   ],
   "source": [
    "max(primary_data['nml_inc'])"
   ]
  },
  {
   "cell_type": "code",
   "execution_count": 3,
   "metadata": {},
   "outputs": [],
   "source": [
    "# doctor_layer = gmaps.symbol_layer(doctor_geo[['lat','lng']], fill_color='red', stroke_color='red', scale=1)\n",
    "# hospital_layer = gmaps.symbol_layer(hospital_geo[['lat','lng']], fill_color='white', stroke_color='white', scale=1)\n",
    "\n",
    "zcta_inc_colors = list(primary_data['color_key_inc'])\n",
    "zcta_inc_layer = gmaps.geojson_layer(\n",
    "    geoj,\n",
    "    fill_color=zcta_inc_colors,\n",
    "    stroke_color=zcta_inc_colors,\n",
    "    fill_opacity=0.8)\n",
    "\n",
    "zcta_ins_colors = list(primary_data['color_key_ins'])\n",
    "zcta_ins_layer = gmaps.geojson_layer(\n",
    "    geoj,\n",
    "    fill_color=zcta_ins_colors,\n",
    "    stroke_color=zcta_ins_colors,\n",
    "    fill_opacity=0.8)\n",
    "\n",
    "zcta_emp_colors = list(primary_data['color_key_emp'])\n",
    "zcta_emp_layer = gmaps.geojson_layer(\n",
    "    geoj,\n",
    "    fill_color=zcta_emp_colors,\n",
    "    stroke_color=zcta_emp_colors,\n",
    "    fill_opacity=0.8)"
   ]
  },
  {
   "cell_type": "code",
   "execution_count": 4,
   "metadata": {},
   "outputs": [],
   "source": [
    "doctor_layer = gmaps.symbol_layer(doctor_geo[['lat','lng']], fill_color='black', stroke_color='black', scale=1)\n",
    "hospital_layer = gmaps.symbol_layer(hospital_geo[['lat','lng']], fill_color='black', stroke_color='black', scale=1)\n",
    "\n",
    "# zcta_layer = gmaps.geojson_layer(\n",
    "#     geoj,\n",
    "#     fill_color=zcta_inc_colors,\n",
    "#     stroke_color=zcta_inc_colors,\n",
    "#     fill_opacity=0.8)\n",
    "\n",
    "# emp_fig = gmaps.figure()\n",
    "# emp_fig.add_layer(zcta_layer)\n",
    "# # fig.add_layer(hospital_layer)\n",
    "# # fig.add_layer(doctor_layer)\n",
    "# emp_fig"
   ]
  },
  {
   "cell_type": "code",
   "execution_count": null,
   "metadata": {
    "scrolled": true
   },
   "outputs": [],
   "source": [
    "inc_fig = gmaps.figure(display_toolbar=False, layout={\n",
    "        'width': '1000px',\n",
    "        'height': '1000px',\n",
    "        'padding': '3px',\n",
    "        'border': '1px solid black'})\n",
    "inc_fig.add_layer(zcta_inc_layer)\n",
    "inc_fig.add_layer(hospital_layer)\n",
    "inc_fig.add_layer(doctor_layer)\n",
    "inc_fig"
   ]
  },
  {
   "cell_type": "code",
   "execution_count": null,
   "metadata": {},
   "outputs": [],
   "source": [
    "embed_minimal_html('dmv_income.html', views=[inc_fig])"
   ]
  },
  {
   "cell_type": "code",
   "execution_count": null,
   "metadata": {},
   "outputs": [],
   "source": [
    "emp_fig = gmaps.figure(display_toolbar=False, layout={\n",
    "        'width': '1000px',\n",
    "        'height': '1000px',\n",
    "        'padding': '3px',\n",
    "        'border': '1px solid black'})\n",
    "emp_fig.add_layer(zcta_emp_layer)\n",
    "emp_fig.add_layer(hospital_layer)\n",
    "emp_fig.add_layer(doctor_layer)\n",
    "emp_fig"
   ]
  },
  {
   "cell_type": "code",
   "execution_count": null,
   "metadata": {},
   "outputs": [],
   "source": [
    "embed_minimal_html('dmv_employment.html', views=[emp_fig])"
   ]
  },
  {
   "cell_type": "code",
   "execution_count": 5,
   "metadata": {},
   "outputs": [
    {
     "data": {
      "application/vnd.jupyter.widget-view+json": {
       "model_id": "31e6af817ab741c592f192801d3668e5",
       "version_major": 2,
       "version_minor": 0
      },
      "text/plain": [
       "Figure(layout=FigureLayout(border='1px solid black', height='1000px', padding='3px', width='1000px'))"
      ]
     },
     "metadata": {},
     "output_type": "display_data"
    }
   ],
   "source": [
    "ins_fig = gmaps.figure(display_toolbar=False, layout={\n",
    "        'width': '1000px',\n",
    "        'height': '1000px',\n",
    "        'padding': '3px',\n",
    "        'border': '1px solid black'})\n",
    "ins_fig.add_layer(zcta_ins_layer)\n",
    "ins_fig.add_layer(hospital_layer)\n",
    "ins_fig.add_layer(doctor_layer)\n",
    "ins_fig"
   ]
  },
  {
   "cell_type": "code",
   "execution_count": null,
   "metadata": {},
   "outputs": [],
   "source": [
    "embed_minimal_html('dmv_insurance.html', views=[ins_fig])"
   ]
  }
 ],
 "metadata": {
  "kernelspec": {
   "display_name": "Python 3",
   "language": "python",
   "name": "python3"
  },
  "language_info": {
   "codemirror_mode": {
    "name": "ipython",
    "version": 3
   },
   "file_extension": ".py",
   "mimetype": "text/x-python",
   "name": "python",
   "nbconvert_exporter": "python",
   "pygments_lexer": "ipython3",
   "version": "3.6.7"
  }
 },
 "nbformat": 4,
 "nbformat_minor": 2
}
