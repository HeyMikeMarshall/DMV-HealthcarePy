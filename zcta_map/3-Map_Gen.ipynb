{
 "cells": [
  {
   "cell_type": "code",
   "execution_count": 3,
   "metadata": {},
   "outputs": [],
   "source": [
    "import requests\n",
    "import pandas as pd\n",
    "import numpy as np\n",
    "import gmaps\n",
    "import json\n",
    "import csv\n",
    "from keys import gapikey\n",
    "from matplotlib.cm import winter\n",
    "from matplotlib.colors import to_hex\n",
    "from area import area\n",
    "import ast\n",
    "from ipywidgets.embed import embed_minimal_html\n",
    "gmaps.configure(api_key=gapikey)\n",
    "\n",
    "with open('resources/places_geo2.csv', newline='\\n', encoding='utf-8') as a:\n",
    "    doctor_geo = pd.read_csv(a)\n",
    "\n",
    "with open('resources/hospital_geo.csv', newline='\\n', encoding='utf-8') as b:\n",
    "    hospital_geo = pd.read_csv(b)\n",
    "        \n",
    "with open('resources/features.json') as c:\n",
    "    geoj = json.load(c)\n",
    "    \n",
    "with open('../primary_data.csv', encoding='utf-8') as d:\n",
    "    primary_data = pd.read_csv(d)"
   ]
  },
  {
   "cell_type": "code",
   "execution_count": 4,
   "metadata": {},
   "outputs": [
    {
     "data": {
      "text/html": [
       "<div>\n",
       "<style scoped>\n",
       "    .dataframe tbody tr th:only-of-type {\n",
       "        vertical-align: middle;\n",
       "    }\n",
       "\n",
       "    .dataframe tbody tr th {\n",
       "        vertical-align: top;\n",
       "    }\n",
       "\n",
       "    .dataframe thead th {\n",
       "        text-align: right;\n",
       "    }\n",
       "</style>\n",
       "<table border=\"1\" class=\"dataframe\">\n",
       "  <thead>\n",
       "    <tr style=\"text-align: right;\">\n",
       "      <th></th>\n",
       "      <th>Unnamed: 0</th>\n",
       "      <th>zip</th>\n",
       "      <th>feature</th>\n",
       "      <th>area km</th>\n",
       "      <th>density</th>\n",
       "      <th>Total Population</th>\n",
       "      <th>Unemployment Rate</th>\n",
       "      <th>Per Capita Income</th>\n",
       "      <th>Percent Insured</th>\n",
       "      <th>hospital facilities</th>\n",
       "      <th>doctors</th>\n",
       "      <th>nml_emp</th>\n",
       "      <th>nml_inc</th>\n",
       "      <th>nml_ins</th>\n",
       "      <th>color_key_inc</th>\n",
       "      <th>color_key_emp</th>\n",
       "      <th>color_key_ins</th>\n",
       "    </tr>\n",
       "  </thead>\n",
       "  <tbody>\n",
       "    <tr>\n",
       "      <th>0</th>\n",
       "      <td>0</td>\n",
       "      <td>20001</td>\n",
       "      <td>{'type': 'Feature', 'geometry': {'type': 'Poly...</td>\n",
       "      <td>5.835524</td>\n",
       "      <td>7144.516970</td>\n",
       "      <td>41692</td>\n",
       "      <td>5</td>\n",
       "      <td>54353.0</td>\n",
       "      <td>96.0</td>\n",
       "      <td>11.0</td>\n",
       "      <td>32.0</td>\n",
       "      <td>0.95</td>\n",
       "      <td>0.182314</td>\n",
       "      <td>0.960</td>\n",
       "      <td>#433e85</td>\n",
       "      <td>#dfe318</td>\n",
       "      <td>#e5e419</td>\n",
       "    </tr>\n",
       "    <tr>\n",
       "      <th>1</th>\n",
       "      <td>1</td>\n",
       "      <td>20002</td>\n",
       "      <td>{'type': 'Feature', 'geometry': {'type': 'Poly...</td>\n",
       "      <td>14.228399</td>\n",
       "      <td>3715.597280</td>\n",
       "      <td>52867</td>\n",
       "      <td>6</td>\n",
       "      <td>49452.0</td>\n",
       "      <td>95.4</td>\n",
       "      <td>8.0</td>\n",
       "      <td>58.0</td>\n",
       "      <td>0.94</td>\n",
       "      <td>0.165875</td>\n",
       "      <td>0.954</td>\n",
       "      <td>#443983</td>\n",
       "      <td>#d8e219</td>\n",
       "      <td>#e2e418</td>\n",
       "    </tr>\n",
       "    <tr>\n",
       "      <th>2</th>\n",
       "      <td>2</td>\n",
       "      <td>20003</td>\n",
       "      <td>{'type': 'Feature', 'geometry': {'type': 'Poly...</td>\n",
       "      <td>6.447784</td>\n",
       "      <td>4083.573672</td>\n",
       "      <td>26330</td>\n",
       "      <td>5</td>\n",
       "      <td>63600.0</td>\n",
       "      <td>97.6</td>\n",
       "      <td>8.0</td>\n",
       "      <td>49.0</td>\n",
       "      <td>0.95</td>\n",
       "      <td>0.213330</td>\n",
       "      <td>0.976</td>\n",
       "      <td>#3f4788</td>\n",
       "      <td>#dfe318</td>\n",
       "      <td>#efe51c</td>\n",
       "    </tr>\n",
       "    <tr>\n",
       "      <th>3</th>\n",
       "      <td>3</td>\n",
       "      <td>20004</td>\n",
       "      <td>{'type': 'Feature', 'geometry': {'type': 'Mult...</td>\n",
       "      <td>0.904905</td>\n",
       "      <td>1779.192084</td>\n",
       "      <td>1610</td>\n",
       "      <td>4</td>\n",
       "      <td>117432.0</td>\n",
       "      <td>98.7</td>\n",
       "      <td>5.0</td>\n",
       "      <td>14.0</td>\n",
       "      <td>0.96</td>\n",
       "      <td>0.393897</td>\n",
       "      <td>0.987</td>\n",
       "      <td>#2a768e</td>\n",
       "      <td>#e5e419</td>\n",
       "      <td>#f6e620</td>\n",
       "    </tr>\n",
       "    <tr>\n",
       "      <th>4</th>\n",
       "      <td>4</td>\n",
       "      <td>20005</td>\n",
       "      <td>{'type': 'Feature', 'geometry': {'type': 'Poly...</td>\n",
       "      <td>1.122787</td>\n",
       "      <td>10964.678013</td>\n",
       "      <td>12311</td>\n",
       "      <td>2</td>\n",
       "      <td>76658.0</td>\n",
       "      <td>95.5</td>\n",
       "      <td>6.0</td>\n",
       "      <td>20.0</td>\n",
       "      <td>0.98</td>\n",
       "      <td>0.257130</td>\n",
       "      <td>0.955</td>\n",
       "      <td>#3a538b</td>\n",
       "      <td>#f1e51d</td>\n",
       "      <td>#e2e418</td>\n",
       "    </tr>\n",
       "  </tbody>\n",
       "</table>\n",
       "</div>"
      ],
      "text/plain": [
       "   Unnamed: 0    zip                                            feature  \\\n",
       "0           0  20001  {'type': 'Feature', 'geometry': {'type': 'Poly...   \n",
       "1           1  20002  {'type': 'Feature', 'geometry': {'type': 'Poly...   \n",
       "2           2  20003  {'type': 'Feature', 'geometry': {'type': 'Poly...   \n",
       "3           3  20004  {'type': 'Feature', 'geometry': {'type': 'Mult...   \n",
       "4           4  20005  {'type': 'Feature', 'geometry': {'type': 'Poly...   \n",
       "\n",
       "     area km       density  Total Population  Unemployment Rate  \\\n",
       "0   5.835524   7144.516970             41692                  5   \n",
       "1  14.228399   3715.597280             52867                  6   \n",
       "2   6.447784   4083.573672             26330                  5   \n",
       "3   0.904905   1779.192084              1610                  4   \n",
       "4   1.122787  10964.678013             12311                  2   \n",
       "\n",
       "   Per Capita Income  Percent Insured  hospital facilities  doctors  nml_emp  \\\n",
       "0            54353.0             96.0                 11.0     32.0     0.95   \n",
       "1            49452.0             95.4                  8.0     58.0     0.94   \n",
       "2            63600.0             97.6                  8.0     49.0     0.95   \n",
       "3           117432.0             98.7                  5.0     14.0     0.96   \n",
       "4            76658.0             95.5                  6.0     20.0     0.98   \n",
       "\n",
       "    nml_inc  nml_ins color_key_inc color_key_emp color_key_ins  \n",
       "0  0.182314    0.960       #433e85       #dfe318       #e5e419  \n",
       "1  0.165875    0.954       #443983       #d8e219       #e2e418  \n",
       "2  0.213330    0.976       #3f4788       #dfe318       #efe51c  \n",
       "3  0.393897    0.987       #2a768e       #e5e419       #f6e620  \n",
       "4  0.257130    0.955       #3a538b       #f1e51d       #e2e418  "
      ]
     },
     "execution_count": 4,
     "metadata": {},
     "output_type": "execute_result"
    }
   ],
   "source": [
    "primary_data.head()"
   ]
  },
  {
   "cell_type": "code",
   "execution_count": 13,
   "metadata": {},
   "outputs": [],
   "source": [
    "# doctor_layer = gmaps.symbol_layer(doctor_geo[['lat','lng']], fill_color='red', stroke_color='red', scale=1)\n",
    "# hospital_layer = gmaps.symbol_layer(hospital_geo[['lat','lng']], fill_color='white', stroke_color='white', scale=1)\n",
    "\n",
    "zcta_inc_colors = list(primary_data['color_key_inc'])\n",
    "zcta_inc_layer = gmaps.geojson_layer(\n",
    "    geoj,\n",
    "    fill_color=zcta_inc_colors,\n",
    "    stroke_color=zcta_inc_colors,\n",
    "    fill_opacity=0.8)\n",
    "\n",
    "zcta_ins_colors = list(primary_data['color_key_ins'])\n",
    "zcta_ins_layer = gmaps.geojson_layer(\n",
    "    geoj,\n",
    "    fill_color=zcta_ins_colors,\n",
    "    stroke_color=zcta_ins_colors,\n",
    "    fill_opacity=0.8)\n",
    "\n",
    "zcta_emp_colors = list(primary_data['color_key_emp'])\n",
    "zcta_emp_layer = gmaps.geojson_layer(\n",
    "    geoj,\n",
    "    fill_color=zcta_emp_colors,\n",
    "    stroke_color=zcta_emp_colors,\n",
    "    fill_opacity=0.8)"
   ]
  },
  {
   "cell_type": "code",
   "execution_count": 12,
   "metadata": {},
   "outputs": [
    {
     "data": {
      "application/vnd.jupyter.widget-view+json": {
       "model_id": "613dca2b20054c2e8da041dc5584ff74",
       "version_major": 2,
       "version_minor": 0
      },
      "text/plain": [
       "Figure(layout=FigureLayout(height='420px'))"
      ]
     },
     "metadata": {},
     "output_type": "display_data"
    }
   ],
   "source": [
    "# doctor_layer = gmaps.symbol_layer(doctor_geo[['lat','lng']], fill_color='red', stroke_color='red', scale=1)\n",
    "# hospital_layer = gmaps.symbol_layer(hospital_geo[['lat','lng']], fill_color='white', stroke_color='white', scale=1)\n",
    "\n",
    "zcta_layer = gmaps.geojson_layer(\n",
    "    geoj,\n",
    "    fill_color=zcta_inc_colors,\n",
    "    stroke_color=zcta_inc_colors,\n",
    "    fill_opacity=0.8)\n",
    "\n",
    "emp_fig = gmaps.figure()\n",
    "fig.add_layer(zcta_layer)\n",
    "# fig.add_layer(hospital_layer)\n",
    "# fig.add_layer(doctor_layer)\n",
    "fig"
   ]
  },
  {
   "cell_type": "code",
   "execution_count": 16,
   "metadata": {},
   "outputs": [
    {
     "data": {
      "application/vnd.jupyter.widget-view+json": {
       "model_id": "c8609e361b7d44d7b5297e126c11f3e2",
       "version_major": 2,
       "version_minor": 0
      },
      "text/plain": [
       "Figure(layout=FigureLayout(border='1px solid black', height='1000px', padding='3px', width='1000px'))"
      ]
     },
     "metadata": {},
     "output_type": "display_data"
    }
   ],
   "source": [
    "inc_fig = gmaps.figure(display_toolbar=False, layout={\n",
    "        'width': '1000px',\n",
    "        'height': '1000px',\n",
    "        'padding': '3px',\n",
    "        'border': '1px solid black'})\n",
    "inc_fig.add_layer(zcta_inc_layer)\n",
    "inc_fig"
   ]
  },
  {
   "cell_type": "code",
   "execution_count": 17,
   "metadata": {},
   "outputs": [
    {
     "data": {
      "application/vnd.jupyter.widget-view+json": {
       "model_id": "7661c9c520a94bf98fab326dc4bc2c45",
       "version_major": 2,
       "version_minor": 0
      },
      "text/plain": [
       "Figure(layout=FigureLayout(border='1px solid black', height='1000px', padding='3px', width='1000px'))"
      ]
     },
     "metadata": {},
     "output_type": "display_data"
    }
   ],
   "source": [
    "emp_fig = gmaps.figure(display_toolbar=False, layout={\n",
    "        'width': '1000px',\n",
    "        'height': '1000px',\n",
    "        'padding': '3px',\n",
    "        'border': '1px solid black'})\n",
    "emp_fig.add_layer(zcta_emp_layer)\n",
    "emp_fig"
   ]
  },
  {
   "cell_type": "code",
   "execution_count": 18,
   "metadata": {},
   "outputs": [
    {
     "data": {
      "application/vnd.jupyter.widget-view+json": {
       "model_id": "0e87790a4a714dcba9ad77559b05cdf1",
       "version_major": 2,
       "version_minor": 0
      },
      "text/plain": [
       "Figure(layout=FigureLayout(border='1px solid black', height='1000px', padding='3px', width='1000px'))"
      ]
     },
     "metadata": {},
     "output_type": "display_data"
    }
   ],
   "source": [
    "ins_fig = gmaps.figure(display_toolbar=False, layout={\n",
    "        'width': '1000px',\n",
    "        'height': '1000px',\n",
    "        'padding': '3px',\n",
    "        'border': '1px solid black'})\n",
    "ins_fig.add_layer(zcta_ins_layer)\n",
    "ins_fig"
   ]
  },
  {
   "cell_type": "code",
   "execution_count": null,
   "metadata": {},
   "outputs": [],
   "source": []
  }
 ],
 "metadata": {
  "kernelspec": {
   "display_name": "Python 3",
   "language": "python",
   "name": "python3"
  },
  "language_info": {
   "codemirror_mode": {
    "name": "ipython",
    "version": 3
   },
   "file_extension": ".py",
   "mimetype": "text/x-python",
   "name": "python",
   "nbconvert_exporter": "python",
   "pygments_lexer": "ipython3",
   "version": "3.6.7"
  }
 },
 "nbformat": 4,
 "nbformat_minor": 2
}
